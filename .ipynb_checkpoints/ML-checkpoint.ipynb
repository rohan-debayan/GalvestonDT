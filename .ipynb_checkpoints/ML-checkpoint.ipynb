{
 "cells": [
  {
   "cell_type": "code",
   "execution_count": 1,
   "id": "a93bec86-607b-4a07-be1d-933280944911",
   "metadata": {},
   "outputs": [],
   "source": [
    "import pandas as pd"
   ]
  },
  {
   "cell_type": "code",
   "execution_count": 3,
   "id": "e903e23c-8768-4458-991e-51bc50cfc4bc",
   "metadata": {},
   "outputs": [],
   "source": [
    "variables = pd.read_csv(\"../GalvestonDT.git/data/AdapVuln.csv\", dtype = {'GEOID': object})"
   ]
  },
  {
   "cell_type": "code",
   "execution_count": null,
   "id": "0ea4f28f-27f5-4a31-88a3-445fe8280c25",
   "metadata": {},
   "outputs": [],
   "source": []
  }
 ],
 "metadata": {
  "kernelspec": {
   "display_name": "Python 3-0.9.0",
   "language": "python",
   "name": "python3-0.9.0"
  },
  "language_info": {
   "codemirror_mode": {
    "name": "ipython",
    "version": 3
   },
   "file_extension": ".py",
   "mimetype": "text/x-python",
   "name": "python",
   "nbconvert_exporter": "python",
   "pygments_lexer": "ipython3",
   "version": "3.8.12"
  }
 },
 "nbformat": 4,
 "nbformat_minor": 5
}
